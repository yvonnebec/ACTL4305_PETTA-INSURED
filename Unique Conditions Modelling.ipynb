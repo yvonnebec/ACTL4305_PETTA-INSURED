{
 "cells": [
  {
   "cell_type": "markdown",
   "metadata": {},
   "source": [
    "## Unique Conditions Modelling\n",
    "This code will investigate the number of unique conditions a pet can have using a number of neural network techniques. \n",
    "\n",
    "Source code inspired by https://laub.au/DeepLearningForActuaries/."
   ]
  },
  {
   "cell_type": "markdown",
   "metadata": {},
   "source": [
    "## 1. Imports\n",
    "Importing necessary packages."
   ]
  },
  {
   "cell_type": "code",
   "execution_count": 132,
   "metadata": {},
   "outputs": [],
   "source": [
    "# Import libraries\n",
    "import os\n",
    "import pandas as pd\n",
    "import random\n",
    "import numpy as np\n",
    "import tensorflow as tf\n",
    "import matplotlib.pyplot as plt\n",
    "\n",
    "from sklearn.model_selection import train_test_split\n",
    "from sklearn.pipeline import make_pipeline\n",
    "from sklearn.preprocessing import OrdinalEncoder, OneHotEncoder, StandardScaler\n",
    "from sklearn.compose import make_column_transformer\n",
    "from sklearn.impute import SimpleImputer\n",
    "from sklearn.metrics import accuracy_score, precision_score, f1_score, log_loss, confusion_matrix\n",
    "\n",
    "\n",
    "from keras.models import Sequential\n",
    "from keras.layers import Dense, Input, Dropout\n",
    "from keras.callbacks import EarlyStopping\n",
    "\n",
    "from tensorflow.keras.layers import Input, Dense, Embedding, concatenate, Flatten\n",
    "from tensorflow.keras.models import Model\n",
    "from tensorflow.keras.optimizers import Adam\n"
   ]
  },
  {
   "cell_type": "markdown",
   "metadata": {},
   "source": [
    "## 2. Data Import and Investigation\n",
    "Importing compiled and cleaned data (as of 14/10 from Github) in file \"cleaned_total_data.csv\"."
   ]
  },
  {
   "cell_type": "code",
   "execution_count": 83,
   "metadata": {},
   "outputs": [],
   "source": [
    "# Set working directory\n",
    "os.chdir(r\"C:\\Users\\ameli\\OneDrive - UNSW\\2024 Trimester 3\\ACTL 4305 Actuarial Data Analytic Applications\\Assignment\")\n",
    "\n",
    "# Import cleaned csv file\n",
    "clean_data = pd.read_csv(\"cleaned_total_data.csv\")"
   ]
  },
  {
   "cell_type": "code",
   "execution_count": 84,
   "metadata": {},
   "outputs": [
    {
     "data": {
      "text/html": [
       "<div>\n",
       "<style scoped>\n",
       "    .dataframe tbody tr th:only-of-type {\n",
       "        vertical-align: middle;\n",
       "    }\n",
       "\n",
       "    .dataframe tbody tr th {\n",
       "        vertical-align: top;\n",
       "    }\n",
       "\n",
       "    .dataframe thead th {\n",
       "        text-align: right;\n",
       "    }\n",
       "</style>\n",
       "<table border=\"1\" class=\"dataframe\">\n",
       "  <thead>\n",
       "    <tr style=\"text-align: right;\">\n",
       "      <th></th>\n",
       "      <th>X</th>\n",
       "      <th>UW_Date</th>\n",
       "      <th>exposure_id</th>\n",
       "      <th>tenure.x</th>\n",
       "      <th>pet_gender</th>\n",
       "      <th>pet_de_sexed</th>\n",
       "      <th>pet_de_sexed_age</th>\n",
       "      <th>pet_is_switcher</th>\n",
       "      <th>nb_policy_first_inception_date</th>\n",
       "      <th>pet_age_months</th>\n",
       "      <th>...</th>\n",
       "      <th>cumulative_claim_amount</th>\n",
       "      <th>cumulative_claim_paid</th>\n",
       "      <th>cumulative_total_claim_amount</th>\n",
       "      <th>tenure.y</th>\n",
       "      <th>claim_frequency</th>\n",
       "      <th>breed_group</th>\n",
       "      <th>nb_excess_FLAG</th>\n",
       "      <th>has_claim</th>\n",
       "      <th>owner_age_band</th>\n",
       "      <th>majority_remoteness</th>\n",
       "    </tr>\n",
       "  </thead>\n",
       "  <tbody>\n",
       "    <tr>\n",
       "      <th>0</th>\n",
       "      <td>2</td>\n",
       "      <td>1/01/2024</td>\n",
       "      <td>exposure_255c9ecf-fd74-4a50-83c4-58cbe79ba7b5</td>\n",
       "      <td>2</td>\n",
       "      <td>male</td>\n",
       "      <td>False</td>\n",
       "      <td>NaN</td>\n",
       "      <td>NaN</td>\n",
       "      <td>23/11/2023</td>\n",
       "      <td>17</td>\n",
       "      <td>...</td>\n",
       "      <td>0.000000</td>\n",
       "      <td>0.000000</td>\n",
       "      <td>0.000000</td>\n",
       "      <td>NaN</td>\n",
       "      <td>0.0</td>\n",
       "      <td>Medium/Active Dogs (Working/Sporting)</td>\n",
       "      <td>False</td>\n",
       "      <td>False</td>\n",
       "      <td>30-39</td>\n",
       "      <td>Inner Regional Australia</td>\n",
       "    </tr>\n",
       "    <tr>\n",
       "      <th>1</th>\n",
       "      <td>3</td>\n",
       "      <td>1/01/2024</td>\n",
       "      <td>exposure_015a99a7-11ac-4719-b6ef-7446db50ea55</td>\n",
       "      <td>0</td>\n",
       "      <td>male</td>\n",
       "      <td>False</td>\n",
       "      <td>NaN</td>\n",
       "      <td>NaN</td>\n",
       "      <td>1/01/2024</td>\n",
       "      <td>21</td>\n",
       "      <td>...</td>\n",
       "      <td>0.000000</td>\n",
       "      <td>0.000000</td>\n",
       "      <td>0.000000</td>\n",
       "      <td>NaN</td>\n",
       "      <td>0.0</td>\n",
       "      <td>Unknown</td>\n",
       "      <td>True</td>\n",
       "      <td>False</td>\n",
       "      <td>20-29</td>\n",
       "      <td>Major Cities of Australia</td>\n",
       "    </tr>\n",
       "    <tr>\n",
       "      <th>2</th>\n",
       "      <td>4</td>\n",
       "      <td>1/01/2024</td>\n",
       "      <td>exposure_5f1f95f2-cae0-41c2-9e7b-a306192a4735</td>\n",
       "      <td>2</td>\n",
       "      <td>female</td>\n",
       "      <td>True</td>\n",
       "      <td>7-12 mo</td>\n",
       "      <td>NaN</td>\n",
       "      <td>23/11/2023</td>\n",
       "      <td>16</td>\n",
       "      <td>...</td>\n",
       "      <td>72.727273</td>\n",
       "      <td>58.181818</td>\n",
       "      <td>72.727273</td>\n",
       "      <td>2.0</td>\n",
       "      <td>1.0</td>\n",
       "      <td>Unknown</td>\n",
       "      <td>False</td>\n",
       "      <td>True</td>\n",
       "      <td>30-39</td>\n",
       "      <td>Inner Regional Australia</td>\n",
       "    </tr>\n",
       "    <tr>\n",
       "      <th>3</th>\n",
       "      <td>5</td>\n",
       "      <td>1/01/2024</td>\n",
       "      <td>exposure_040a594b-3127-4649-9943-e35ed0df5b36</td>\n",
       "      <td>2</td>\n",
       "      <td>male</td>\n",
       "      <td>False</td>\n",
       "      <td>NaN</td>\n",
       "      <td>NaN</td>\n",
       "      <td>8/11/2023</td>\n",
       "      <td>8</td>\n",
       "      <td>...</td>\n",
       "      <td>0.000000</td>\n",
       "      <td>0.000000</td>\n",
       "      <td>0.000000</td>\n",
       "      <td>NaN</td>\n",
       "      <td>0.0</td>\n",
       "      <td>Terriers</td>\n",
       "      <td>True</td>\n",
       "      <td>False</td>\n",
       "      <td>60-69</td>\n",
       "      <td>Major Cities of Australia</td>\n",
       "    </tr>\n",
       "    <tr>\n",
       "      <th>4</th>\n",
       "      <td>6</td>\n",
       "      <td>1/01/2024</td>\n",
       "      <td>exposure_674df505-e2b3-468f-b2f1-acc399add0d3</td>\n",
       "      <td>0</td>\n",
       "      <td>female</td>\n",
       "      <td>True</td>\n",
       "      <td>0-3 mo</td>\n",
       "      <td>NaN</td>\n",
       "      <td>4/01/2024</td>\n",
       "      <td>15</td>\n",
       "      <td>...</td>\n",
       "      <td>0.000000</td>\n",
       "      <td>0.000000</td>\n",
       "      <td>0.000000</td>\n",
       "      <td>NaN</td>\n",
       "      <td>0.0</td>\n",
       "      <td>Medium/Active Dogs (Working/Sporting)</td>\n",
       "      <td>True</td>\n",
       "      <td>False</td>\n",
       "      <td>20-29</td>\n",
       "      <td>Major Cities of Australia</td>\n",
       "    </tr>\n",
       "  </tbody>\n",
       "</table>\n",
       "<p>5 rows × 49 columns</p>\n",
       "</div>"
      ],
      "text/plain": [
       "   X    UW_Date                                    exposure_id  tenure.x  \\\n",
       "0  2  1/01/2024  exposure_255c9ecf-fd74-4a50-83c4-58cbe79ba7b5         2   \n",
       "1  3  1/01/2024  exposure_015a99a7-11ac-4719-b6ef-7446db50ea55         0   \n",
       "2  4  1/01/2024  exposure_5f1f95f2-cae0-41c2-9e7b-a306192a4735         2   \n",
       "3  5  1/01/2024  exposure_040a594b-3127-4649-9943-e35ed0df5b36         2   \n",
       "4  6  1/01/2024  exposure_674df505-e2b3-468f-b2f1-acc399add0d3         0   \n",
       "\n",
       "  pet_gender  pet_de_sexed pet_de_sexed_age pet_is_switcher  \\\n",
       "0       male         False              NaN             NaN   \n",
       "1       male         False              NaN             NaN   \n",
       "2     female          True          7-12 mo             NaN   \n",
       "3       male         False              NaN             NaN   \n",
       "4     female          True           0-3 mo             NaN   \n",
       "\n",
       "  nb_policy_first_inception_date  pet_age_months  ...  \\\n",
       "0                     23/11/2023              17  ...   \n",
       "1                      1/01/2024              21  ...   \n",
       "2                     23/11/2023              16  ...   \n",
       "3                      8/11/2023               8  ...   \n",
       "4                      4/01/2024              15  ...   \n",
       "\n",
       "   cumulative_claim_amount  cumulative_claim_paid  \\\n",
       "0                 0.000000               0.000000   \n",
       "1                 0.000000               0.000000   \n",
       "2                72.727273              58.181818   \n",
       "3                 0.000000               0.000000   \n",
       "4                 0.000000               0.000000   \n",
       "\n",
       "  cumulative_total_claim_amount tenure.y  claim_frequency  \\\n",
       "0                      0.000000      NaN              0.0   \n",
       "1                      0.000000      NaN              0.0   \n",
       "2                     72.727273      2.0              1.0   \n",
       "3                      0.000000      NaN              0.0   \n",
       "4                      0.000000      NaN              0.0   \n",
       "\n",
       "                             breed_group nb_excess_FLAG  has_claim  \\\n",
       "0  Medium/Active Dogs (Working/Sporting)          False      False   \n",
       "1                                Unknown           True      False   \n",
       "2                                Unknown          False       True   \n",
       "3                               Terriers           True      False   \n",
       "4  Medium/Active Dogs (Working/Sporting)           True      False   \n",
       "\n",
       "  owner_age_band        majority_remoteness  \n",
       "0          30-39   Inner Regional Australia  \n",
       "1          20-29  Major Cities of Australia  \n",
       "2          30-39   Inner Regional Australia  \n",
       "3          60-69  Major Cities of Australia  \n",
       "4          20-29  Major Cities of Australia  \n",
       "\n",
       "[5 rows x 49 columns]"
      ]
     },
     "execution_count": 84,
     "metadata": {},
     "output_type": "execute_result"
    }
   ],
   "source": [
    "# Investigate dataset\n",
    "clean_data.head()"
   ]
  },
  {
   "cell_type": "markdown",
   "metadata": {},
   "source": [
    "Note to view some of the next few as scrollable elements."
   ]
  },
  {
   "cell_type": "code",
   "execution_count": 85,
   "metadata": {},
   "outputs": [
    {
     "name": "stdout",
     "output_type": "stream",
     "text": [
      "<class 'pandas.core.frame.DataFrame'>\n",
      "RangeIndex: 40491 entries, 0 to 40490\n",
      "Data columns (total 49 columns):\n",
      " #   Column                          Non-Null Count  Dtype  \n",
      "---  ------                          --------------  -----  \n",
      " 0   X                               40491 non-null  int64  \n",
      " 1   UW_Date                         40491 non-null  object \n",
      " 2   exposure_id                     40491 non-null  object \n",
      " 3   tenure.x                        40491 non-null  int64  \n",
      " 4   pet_gender                      40491 non-null  object \n",
      " 5   pet_de_sexed                    40491 non-null  bool   \n",
      " 6   pet_de_sexed_age                12439 non-null  object \n",
      " 7   pet_is_switcher                 9437 non-null   object \n",
      " 8   nb_policy_first_inception_date  40491 non-null  object \n",
      " 9   pet_age_months                  40491 non-null  int64  \n",
      " 10  nb_contribution                 40491 non-null  int64  \n",
      " 11  nb_excess                       40491 non-null  int64  \n",
      " 12  nb_address_type_adj             40491 non-null  object \n",
      " 13  nb_suburb                       40491 non-null  object \n",
      " 14  nb_postcode                     40491 non-null  int64  \n",
      " 15  nb_state                        40491 non-null  object \n",
      " 16  person_dob                      40418 non-null  object \n",
      " 17  nb_contribution_excess          40491 non-null  int64  \n",
      " 18  pet_age_years                   40491 non-null  object \n",
      " 19  owner_age_years                 40418 non-null  float64\n",
      " 20  nb_number_of_breeds             40491 non-null  int64  \n",
      " 21  nb_average_breed_size           40491 non-null  float64\n",
      " 22  nb_breed_type                   40491 non-null  object \n",
      " 23  nb_breed_trait                  37933 non-null  object \n",
      " 24  nb_breed_name_unique            40491 non-null  object \n",
      " 25  nb_breed_name_unique_concat     40491 non-null  object \n",
      " 26  is_multi_pet_plan               40491 non-null  bool   \n",
      " 27  lead_date_day                   40491 non-null  int64  \n",
      " 28  quote_date                      40491 non-null  object \n",
      " 29  quote_time_group                40491 non-null  object \n",
      " 30  exposure_id_1                   40491 non-null  object \n",
      " 31  row_num                         40491 non-null  int64  \n",
      " 32  earned_units                    40491 non-null  float64\n",
      " 33  id                              40491 non-null  object \n",
      " 34  multiple_claims                 40491 non-null  bool   \n",
      " 35  num_claims                      40491 non-null  int64  \n",
      " 36  num_unique_conditions           40491 non-null  int64  \n",
      " 37  claim_first_date                2256 non-null   object \n",
      " 38  claim_last_date                 2256 non-null   object \n",
      " 39  cumulative_claim_amount         40491 non-null  float64\n",
      " 40  cumulative_claim_paid           40491 non-null  float64\n",
      " 41  cumulative_total_claim_amount   40491 non-null  float64\n",
      " 42  tenure.y                        2256 non-null   float64\n",
      " 43  claim_frequency                 40491 non-null  float64\n",
      " 44  breed_group                     40491 non-null  object \n",
      " 45  nb_excess_FLAG                  40491 non-null  bool   \n",
      " 46  has_claim                       40491 non-null  bool   \n",
      " 47  owner_age_band                  40491 non-null  object \n",
      " 48  majority_remoteness             40491 non-null  object \n",
      "dtypes: bool(5), float64(8), int64(12), object(24)\n",
      "memory usage: 13.8+ MB\n"
     ]
    }
   ],
   "source": [
    "clean_data.info()"
   ]
  },
  {
   "cell_type": "code",
   "execution_count": 86,
   "metadata": {},
   "outputs": [
    {
     "name": "stdout",
     "output_type": "stream",
     "text": [
      "X\n",
      "X\n",
      "2        1\n",
      "3        1\n",
      "4        1\n",
      "5        1\n",
      "6        1\n",
      "        ..\n",
      "41597    1\n",
      "41598    1\n",
      "41599    1\n",
      "41600    1\n",
      "41601    1\n",
      "Name: count, Length: 40491, dtype: int64\n",
      "UW_Date\n",
      "UW_Date\n",
      "1/01/2024    1936\n",
      "1/02/2024    2666\n",
      "1/03/2024    3443\n",
      "1/04/2024    4374\n",
      "1/05/2024    5359\n",
      "1/06/2024    6337\n",
      "1/07/2024    7563\n",
      "1/08/2024    8813\n",
      "Name: count, dtype: int64\n",
      "exposure_id\n",
      "exposure_id\n",
      "exposure_000a0128-7995-4e26-91e2-fda217a5837d    4\n",
      "exposure_000e4bc1-8623-43a5-a47f-3685d8d084be    2\n",
      "exposure_000f48d8-d205-4ea8-839d-cceadde43de8    3\n",
      "exposure_0014590f-b9e6-4122-9dc3-2e16003a5bd7    8\n",
      "exposure_0015ad7c-fe8d-46fe-88a5-f15505d770cd    1\n",
      "                                                ..\n",
      "exposure_ffd78146-8b16-4e19-a08c-23e8cf654afb    8\n",
      "exposure_ffddd3b6-2a3c-4e43-86bf-97c12d02c239    1\n",
      "exposure_ffe25e6d-0e3d-4862-8d8e-6702270e03c9    2\n",
      "exposure_ffe53208-f2f3-45d5-88cc-a51446319217    5\n",
      "exposure_ffea43a0-1395-4e36-8128-8fafb3fddc03    1\n",
      "Name: count, Length: 9235, dtype: int64\n",
      "tenure.x\n",
      "tenure.x\n",
      "-7        1\n",
      "-6        1\n",
      "-5        2\n",
      "-4        1\n",
      "-3        1\n",
      "-1       31\n",
      " 0     8059\n",
      " 1     7215\n",
      " 2     6285\n",
      " 3     5285\n",
      " 4     4261\n",
      " 5     3312\n",
      " 6     2506\n",
      " 7     1803\n",
      " 8     1052\n",
      " 9      520\n",
      " 10     109\n",
      " 11      33\n",
      " 12       6\n",
      " 13       4\n",
      " 14       4\n",
      "Name: count, dtype: int64\n",
      "pet_gender\n",
      "pet_gender\n",
      "female    18289\n",
      "male      22202\n",
      "Name: count, dtype: int64\n",
      "pet_de_sexed\n",
      "pet_de_sexed\n",
      "False    28052\n",
      "True     12439\n",
      "Name: count, dtype: int64\n",
      "pet_de_sexed_age\n",
      "pet_de_sexed_age\n",
      "0-3 mo         1434\n",
      "0-3 months        8\n",
      "1-2 yr         2145\n",
      "2+ years          8\n",
      "2+ yr           673\n",
      "4-6 mo         3765\n",
      "7-12 mo        3800\n",
      "7-12 months       8\n",
      "Not Sure        598\n",
      "Name: count, dtype: int64\n",
      "pet_is_switcher\n",
      "pet_is_switcher\n",
      "False    6784\n",
      "True     2653\n",
      "Name: count, dtype: int64\n",
      "nb_policy_first_inception_date\n",
      "nb_policy_first_inception_date\n",
      "1/01/2024    263\n",
      "1/02/2024    189\n",
      "1/03/2024    156\n",
      "1/04/2024    205\n",
      "1/05/2024    128\n",
      "            ... \n",
      "9/09/2023     16\n",
      "9/09/2024      1\n",
      "9/10/2023      8\n",
      "9/11/2023     45\n",
      "9/12/2023     57\n",
      "Name: count, Length: 355, dtype: int64\n",
      "pet_age_months\n",
      "pet_age_months\n",
      "1       282\n",
      "2      6188\n",
      "3      5692\n",
      "4      2805\n",
      "5      1544\n",
      "       ... \n",
      "115       3\n",
      "116       8\n",
      "118       1\n",
      "119      11\n",
      "120       9\n",
      "Name: count, Length: 118, dtype: int64\n",
      "nb_contribution\n",
      "nb_contribution\n",
      "80     27022\n",
      "90      8166\n",
      "100     5303\n",
      "Name: count, dtype: int64\n",
      "nb_excess\n",
      "nb_excess\n",
      "0       6098\n",
      "100    26189\n",
      "200     8204\n",
      "Name: count, dtype: int64\n",
      "nb_address_type_adj\n",
      "nb_address_type_adj\n",
      "Apartment     5181\n",
      "House        35310\n",
      "Name: count, dtype: int64\n",
      "nb_suburb\n",
      "nb_suburb\n",
      "Aarons Pass         1\n",
      "Abbotsford         68\n",
      "Abercrombie         6\n",
      "Aberdare            6\n",
      "Aberdeen            5\n",
      "                   ..\n",
      "north st marys      3\n",
      "waterloo            7\n",
      "west Hobart         6\n",
      "west wyalong        8\n",
      "whalan              6\n",
      "Name: count, Length: 2767, dtype: int64\n",
      "nb_postcode\n",
      "nb_postcode\n",
      "810     52\n",
      "812      9\n",
      "820      3\n",
      "830      8\n",
      "832     13\n",
      "        ..\n",
      "7307     1\n",
      "7310     7\n",
      "7315     7\n",
      "7316     8\n",
      "7470     2\n",
      "Name: count, Length: 1350, dtype: int64\n",
      "nb_state\n",
      "nb_state\n",
      "ACT      651\n",
      "NSW    13696\n",
      "NT       121\n",
      "QLD     9400\n",
      "SA      2201\n",
      "TAS      410\n",
      "VIC     9987\n",
      "WA      4025\n",
      "Name: count, dtype: int64\n",
      "person_dob\n",
      "person_dob\n",
      "1/01/1953     3\n",
      "1/01/1955     4\n",
      "1/01/1962     6\n",
      "1/01/1963     1\n",
      "1/01/1964     6\n",
      "             ..\n",
      "9/12/1987    12\n",
      "9/12/1991    11\n",
      "9/12/1992    12\n",
      "9/12/1994     7\n",
      "9/12/1997     6\n",
      "Name: count, Length: 6400, dtype: int64\n",
      "nb_contribution_excess\n",
      "nb_contribution_excess\n",
      "800        4406\n",
      "900        1692\n",
      "80100     16342\n",
      "80200      6274\n",
      "90100      4929\n",
      "90200      1545\n",
      "100100     4918\n",
      "100200      385\n",
      "Name: count, dtype: int64\n",
      "pet_age_years\n",
      "pet_age_years\n",
      "0-6 months     17548\n",
      "1 years         5383\n",
      "10 years           9\n",
      "2 years         5213\n",
      "3 years         3766\n",
      "4 years         2663\n",
      "5 years         1184\n",
      "6 years          545\n",
      "7 years          344\n",
      "7-12 months     3382\n",
      "8 years          325\n",
      "9 years          129\n",
      "Name: count, dtype: int64\n",
      "owner_age_years\n",
      "owner_age_years\n",
      "18.0     93\n",
      "19.0    218\n",
      "20.0    393\n",
      "21.0    399\n",
      "22.0    673\n",
      "       ... \n",
      "82.0     20\n",
      "83.0     12\n",
      "84.0      8\n",
      "86.0      5\n",
      "95.0      8\n",
      "Name: count, Length: 69, dtype: int64\n",
      "nb_number_of_breeds\n",
      "nb_number_of_breeds\n",
      "1    37628\n",
      "2     2515\n",
      "3      301\n",
      "4       28\n",
      "5       15\n",
      "6        4\n",
      "Name: count, dtype: int64\n",
      "nb_average_breed_size\n",
      "nb_average_breed_size\n",
      "1.000000    15429\n",
      "1.250000        8\n",
      "1.333333       31\n",
      "1.400000        8\n",
      "1.500000      390\n",
      "1.666667       24\n",
      "1.833333        4\n",
      "2.000000    11881\n",
      "2.250000        5\n",
      "2.333333       39\n",
      "2.500000      452\n",
      "2.600000        6\n",
      "2.666667       35\n",
      "3.000000    11749\n",
      "3.333333       18\n",
      "3.400000        1\n",
      "3.500000       65\n",
      "3.666667        5\n",
      "4.000000      341\n",
      "Name: count, dtype: int64\n",
      "nb_breed_type\n",
      "nb_breed_type\n",
      "cross             5421\n",
      "designerbreed     5964\n",
      "purebred         24745\n",
      "unnamed cross     4361\n",
      "Name: count, dtype: int64\n",
      "nb_breed_trait\n",
      "nb_breed_trait\n",
      "brachycephalic    4468\n",
      "bull                71\n",
      "collie related    2848\n",
      "cross             2863\n",
      "hound              642\n",
      "mastiff            514\n",
      "pinscher           113\n",
      "pointer            639\n",
      "retriever         4152\n",
      "setter              86\n",
      "shepherd type     1093\n",
      "sighthound         844\n",
      "spaniel           1429\n",
      "spitz related     2210\n",
      "teckel            2953\n",
      "terrier           1322\n",
      "traditional         26\n",
      "unknown           4361\n",
      "water dog         7086\n",
      "white fluffy       213\n",
      "Name: count, dtype: int64\n",
      "nb_breed_name_unique\n",
      "nb_breed_name_unique\n",
      "afghan hound                           1\n",
      "airedale terrier                      39\n",
      "alaskan klee kai                       8\n",
      "alaskan klee kai cross                 4\n",
      "alaskan malamute                      67\n",
      "                                    ... \n",
      "west highland white terrier          132\n",
      "west highland white terrier cross     15\n",
      "whippet                              328\n",
      "wirehaired pointing griffon cross      3\n",
      "yorkshire terrier                     43\n",
      "Name: count, Length: 326, dtype: int64\n",
      "nb_breed_name_unique_concat\n",
      "nb_breed_name_unique_concat\n",
      "afghan hound                                                       1\n",
      "airedale terrier                                                  39\n",
      "alaskan husky cross, german shepherd cross                         2\n",
      "alaskan husky, kelpie, bull arab                                   1\n",
      "alaskan klee kai                                                   8\n",
      "                                                                ... \n",
      "west highland white terrier cross, jack russell terrier cross      8\n",
      "whippet                                                          328\n",
      "whippet cross, kelpie cross                                        6\n",
      "wirehaired pointing griffon cross                                  3\n",
      "yorkshire terrier                                                 43\n",
      "Name: count, Length: 860, dtype: int64\n",
      "is_multi_pet_plan\n",
      "is_multi_pet_plan\n",
      "False    32941\n",
      "True      7550\n",
      "Name: count, dtype: int64\n",
      "lead_date_day\n",
      "lead_date_day\n",
      "0      39775\n",
      "1        251\n",
      "2        148\n",
      "3         81\n",
      "4         62\n",
      "5         52\n",
      "6         13\n",
      "7         24\n",
      "8         14\n",
      "9         11\n",
      "10        15\n",
      "12         4\n",
      "13         6\n",
      "14         4\n",
      "16         8\n",
      "20         7\n",
      "27         8\n",
      "31         5\n",
      "120        3\n",
      "Name: count, dtype: int64\n",
      "quote_date\n",
      "quote_date\n",
      "1/01/2024    241\n",
      "1/02/2024    220\n",
      "1/03/2024    128\n",
      "1/04/2024    129\n",
      "1/05/2024    159\n",
      "            ... \n",
      "9/07/2024     68\n",
      "9/08/2024     36\n",
      "9/10/2023     26\n",
      "9/11/2023    151\n",
      "9/12/2023     72\n",
      "Name: count, Length: 353, dtype: int64\n",
      "quote_time_group\n",
      "quote_time_group\n",
      "Afternoon (12:00 - 17:59)     15707\n",
      "Evening (18:00 - 23:59)       10552\n",
      "Late Night (00:00 - 04:59)      878\n",
      "Morning (05:00 - 11:59)       13354\n",
      "Name: count, dtype: int64\n",
      "exposure_id_1\n",
      "exposure_id_1\n",
      "exposure_000a0128-7995-4e26-91e2-fda217a5837d    4\n",
      "exposure_000e4bc1-8623-43a5-a47f-3685d8d084be    2\n",
      "exposure_000f48d8-d205-4ea8-839d-cceadde43de8    3\n",
      "exposure_0014590f-b9e6-4122-9dc3-2e16003a5bd7    8\n",
      "exposure_0015ad7c-fe8d-46fe-88a5-f15505d770cd    1\n",
      "                                                ..\n",
      "exposure_ffd78146-8b16-4e19-a08c-23e8cf654afb    8\n",
      "exposure_ffddd3b6-2a3c-4e43-86bf-97c12d02c239    1\n",
      "exposure_ffe25e6d-0e3d-4862-8d8e-6702270e03c9    2\n",
      "exposure_ffe53208-f2f3-45d5-88cc-a51446319217    5\n",
      "exposure_ffea43a0-1395-4e36-8128-8fafb3fddc03    1\n",
      "Name: count, Length: 9235, dtype: int64\n",
      "row_num\n",
      "row_num\n",
      "1    40491\n",
      "Name: count, dtype: int64\n",
      "earned_units\n",
      "earned_units\n",
      "6.938894e-18       10\n",
      "1.387779e-17       34\n",
      "2.081668e-17        2\n",
      "2.775558e-17       13\n",
      "3.469447e-17        4\n",
      "                ...  \n",
      "8.974910e-01        1\n",
      "8.996471e-01        1\n",
      "8.998325e-01        2\n",
      "9.000000e-01       53\n",
      "1.000000e+00    33185\n",
      "Name: count, Length: 371, dtype: int64\n",
      "id\n",
      "id\n",
      "-1-exposure_0351c61d-528f-44b7-813c-c54a7e91b04f    1\n",
      "-1-exposure_05ff7c15-c49b-48d4-968a-f6f3afd08a5a    1\n",
      "-1-exposure_0779fd87-3d6b-442a-b329-b091156b8a7b    1\n",
      "-1-exposure_15c637a5-136f-46ba-9154-df845c8e2e4f    1\n",
      "-1-exposure_1b46ca61-abe1-4e29-af0e-0fbe690e0f40    1\n",
      "                                                   ..\n",
      "9-exposure_fdd1f4e9-c733-48cb-86e0-b3e2fd918cef     1\n",
      "9-exposure_fe0700e1-c07b-4a23-bc82-cfa677b1dfd4     1\n",
      "9-exposure_ff1f75c7-9cf5-4fb2-b991-c64de9d0bd0d     1\n",
      "9-exposure_ff47f69b-5df2-4f29-ad0a-a56a42a1affc     1\n",
      "9-exposure_ffc064ab-f569-434d-a202-ad1014a47eee     1\n",
      "Name: count, Length: 40491, dtype: int64\n",
      "multiple_claims\n",
      "multiple_claims\n",
      "False    39952\n",
      "True       539\n",
      "Name: count, dtype: int64\n",
      "num_claims\n",
      "num_claims\n",
      "0     38235\n",
      "1      1717\n",
      "2       374\n",
      "3       104\n",
      "4        35\n",
      "5        17\n",
      "6         4\n",
      "7         2\n",
      "8         1\n",
      "10        1\n",
      "11        1\n",
      "Name: count, dtype: int64\n",
      "num_unique_conditions\n",
      "num_unique_conditions\n",
      "0    38235\n",
      "1     2062\n",
      "2      183\n",
      "3       11\n",
      "Name: count, dtype: int64\n",
      "claim_first_date\n",
      "claim_first_date\n",
      "1/01/2024     2\n",
      "1/02/2024     5\n",
      "1/03/2024     7\n",
      "1/04/2024     6\n",
      "1/05/2024    11\n",
      "             ..\n",
      "9/04/2024     7\n",
      "9/05/2024     7\n",
      "9/06/2024     5\n",
      "9/07/2024     6\n",
      "9/08/2024    13\n",
      "Name: count, Length: 241, dtype: int64\n",
      "claim_last_date\n",
      "claim_last_date\n",
      "1/01/2024     1\n",
      "1/02/2024     3\n",
      "1/03/2024     5\n",
      "1/04/2024     6\n",
      "1/05/2024     6\n",
      "             ..\n",
      "9/04/2024    11\n",
      "9/05/2024    16\n",
      "9/06/2024     5\n",
      "9/07/2024    14\n",
      "9/08/2024    24\n",
      "Name: count, Length: 241, dtype: int64\n",
      "cumulative_claim_amount\n",
      "cumulative_claim_amount\n",
      "0.000000        38235\n",
      "22.727273           1\n",
      "24.659091           1\n",
      "35.454545           1\n",
      "38.363636           1\n",
      "                ...  \n",
      "15227.654540        1\n",
      "16183.800000        1\n",
      "16455.572730        1\n",
      "21395.227270        1\n",
      "22929.590910        1\n",
      "Name: count, Length: 2050, dtype: int64\n",
      "cumulative_claim_paid\n",
      "cumulative_claim_paid\n",
      "0.000000        38235\n",
      "0.181818            1\n",
      "0.654545            1\n",
      "0.727273            1\n",
      "1.454545            1\n",
      "                ...  \n",
      "13195.454550        1\n",
      "13648.127270        1\n",
      "13716.790900        1\n",
      "16092.890910        1\n",
      "18270.945460        1\n",
      "Name: count, Length: 2102, dtype: int64\n",
      "cumulative_total_claim_amount\n",
      "cumulative_total_claim_amount\n",
      "0.000000        38235\n",
      "34.090909           1\n",
      "35.400000           1\n",
      "35.454545           1\n",
      "38.363636           1\n",
      "                ...  \n",
      "15227.654540        1\n",
      "16183.800000        1\n",
      "16455.572730        1\n",
      "21395.227270        1\n",
      "22929.590910        1\n",
      "Name: count, Length: 2080, dtype: int64\n",
      "tenure.y\n",
      "tenure.y\n",
      "0.0    126\n",
      "1.0    362\n",
      "2.0    457\n",
      "3.0    361\n",
      "4.0    319\n",
      "5.0    241\n",
      "6.0    178\n",
      "7.0    108\n",
      "8.0     66\n",
      "9.0     38\n",
      "Name: count, dtype: int64\n",
      "claim_frequency\n",
      "claim_frequency\n",
      "0.000000     38235\n",
      "1.000000      1633\n",
      "1.111111         1\n",
      "1.115385         2\n",
      "1.148148         3\n",
      "             ...  \n",
      "10.000000        2\n",
      "10.333333        1\n",
      "11.000000        1\n",
      "12.802848        1\n",
      "62.000000        1\n",
      "Name: count, Length: 67, dtype: int64\n",
      "breed_group\n",
      "breed_group\n",
      "Cross-breeds                              2863\n",
      "Large/Heavy Dogs (Mastiffs, Bulls)        6539\n",
      "Medium/Active Dogs (Working/Sporting)    17333\n",
      "Small Dogs (Toy/Companion)                2536\n",
      "Terriers                                  4275\n",
      "Unknown                                   6945\n",
      "Name: count, dtype: int64\n",
      "nb_excess_FLAG\n",
      "nb_excess_FLAG\n",
      "False     6098\n",
      "True     34393\n",
      "Name: count, dtype: int64\n",
      "has_claim\n",
      "has_claim\n",
      "False    38235\n",
      "True      2256\n",
      "Name: count, dtype: int64\n",
      "owner_age_band\n",
      "owner_age_band\n",
      "20-29       10099\n",
      "30-39       12168\n",
      "40-49        9056\n",
      "50-59        5607\n",
      "60-69        2419\n",
      "70+           758\n",
      "Under 20      311\n",
      "Unknown        73\n",
      "Name: count, dtype: int64\n",
      "majority_remoteness\n",
      "majority_remoteness\n",
      "Inner Regional Australia      4612\n",
      "Major Cities of Australia    34566\n",
      "Outer Regional Australia      1072\n",
      "Unknown                        205\n",
      "Very Remote Australia           36\n",
      "Name: count, dtype: int64\n"
     ]
    }
   ],
   "source": [
    "# Investigate ranges of variables\n",
    "for i in clean_data.columns:\n",
    "    print(i)\n",
    "    print(clean_data[i].value_counts().sort_index(ascending = True))"
   ]
  },
  {
   "cell_type": "markdown",
   "metadata": {},
   "source": [
    "Going to take a smaller sample of the dataset for analysis right now, based on variables that might be most important. Others can be added on later. \n",
    "\n",
    "This means I will take:\n",
    "- pet_gender\n",
    "- pet_de_sexed\n",
    "- pet_de_sexed_age\n",
    "- pet_age_months\n",
    "- nb_contribution\n",
    "- nb_excess\n",
    "- pet_age_years\n",
    "- owner_age_years\n",
    "- nb_breed_trait\n",
    "- is_multi_pet_plan\n",
    "- multiple_claims\n",
    "\n",
    "I will not take (just yet):\n",
    "- person_dob"
   ]
  },
  {
   "cell_type": "code",
   "execution_count": 87,
   "metadata": {},
   "outputs": [],
   "source": [
    "# Create smaller dataframe\n",
    "key_data = clean_data[[\"pet_gender\", \"pet_de_sexed\", \"pet_de_sexed_age\", \"pet_age_months\", \n",
    "                       \"nb_contribution\", \"nb_excess\", \"pet_age_years\", \"owner_age_years\",\n",
    "                       \"nb_breed_trait\", \"is_multi_pet_plan\", \"multiple_claims\", \n",
    "                       \"num_unique_conditions\"]]"
   ]
  },
  {
   "cell_type": "code",
   "execution_count": 88,
   "metadata": {},
   "outputs": [
    {
     "name": "stdout",
     "output_type": "stream",
     "text": [
      "pet_gender\n",
      "pet_gender\n",
      "female    18289\n",
      "male      22202\n",
      "Name: count, dtype: int64\n",
      "pet_de_sexed\n",
      "pet_de_sexed\n",
      "False    28052\n",
      "True     12439\n",
      "Name: count, dtype: int64\n",
      "pet_de_sexed_age\n",
      "pet_de_sexed_age\n",
      "0-3 mo         1434\n",
      "0-3 months        8\n",
      "1-2 yr         2145\n",
      "2+ years          8\n",
      "2+ yr           673\n",
      "4-6 mo         3765\n",
      "7-12 mo        3800\n",
      "7-12 months       8\n",
      "Not Sure        598\n",
      "Name: count, dtype: int64\n",
      "pet_age_months\n",
      "pet_age_months\n",
      "1       282\n",
      "2      6188\n",
      "3      5692\n",
      "4      2805\n",
      "5      1544\n",
      "       ... \n",
      "115       3\n",
      "116       8\n",
      "118       1\n",
      "119      11\n",
      "120       9\n",
      "Name: count, Length: 118, dtype: int64\n",
      "nb_contribution\n",
      "nb_contribution\n",
      "80     27022\n",
      "90      8166\n",
      "100     5303\n",
      "Name: count, dtype: int64\n",
      "nb_excess\n",
      "nb_excess\n",
      "0       6098\n",
      "100    26189\n",
      "200     8204\n",
      "Name: count, dtype: int64\n",
      "pet_age_years\n",
      "pet_age_years\n",
      "0-6 months     17548\n",
      "1 years         5383\n",
      "10 years           9\n",
      "2 years         5213\n",
      "3 years         3766\n",
      "4 years         2663\n",
      "5 years         1184\n",
      "6 years          545\n",
      "7 years          344\n",
      "7-12 months     3382\n",
      "8 years          325\n",
      "9 years          129\n",
      "Name: count, dtype: int64\n",
      "owner_age_years\n",
      "owner_age_years\n",
      "18.0     93\n",
      "19.0    218\n",
      "20.0    393\n",
      "21.0    399\n",
      "22.0    673\n",
      "       ... \n",
      "82.0     20\n",
      "83.0     12\n",
      "84.0      8\n",
      "86.0      5\n",
      "95.0      8\n",
      "Name: count, Length: 69, dtype: int64\n",
      "nb_breed_trait\n",
      "nb_breed_trait\n",
      "brachycephalic    4468\n",
      "bull                71\n",
      "collie related    2848\n",
      "cross             2863\n",
      "hound              642\n",
      "mastiff            514\n",
      "pinscher           113\n",
      "pointer            639\n",
      "retriever         4152\n",
      "setter              86\n",
      "shepherd type     1093\n",
      "sighthound         844\n",
      "spaniel           1429\n",
      "spitz related     2210\n",
      "teckel            2953\n",
      "terrier           1322\n",
      "traditional         26\n",
      "unknown           4361\n",
      "water dog         7086\n",
      "white fluffy       213\n",
      "Name: count, dtype: int64\n",
      "is_multi_pet_plan\n",
      "is_multi_pet_plan\n",
      "False    32941\n",
      "True      7550\n",
      "Name: count, dtype: int64\n",
      "multiple_claims\n",
      "multiple_claims\n",
      "False    39952\n",
      "True       539\n",
      "Name: count, dtype: int64\n",
      "num_unique_conditions\n",
      "num_unique_conditions\n",
      "0    38235\n",
      "1     2062\n",
      "2      183\n",
      "3       11\n",
      "Name: count, dtype: int64\n"
     ]
    }
   ],
   "source": [
    "# Understand the values these limited variables take on\n",
    "for i in key_data.columns:\n",
    "    print(i)\n",
    "    print(key_data[i].value_counts().sort_index(ascending = True))"
   ]
  },
  {
   "cell_type": "code",
   "execution_count": 89,
   "metadata": {},
   "outputs": [
    {
     "name": "stdout",
     "output_type": "stream",
     "text": [
      "pet_gender                   0\n",
      "pet_de_sexed                 0\n",
      "pet_de_sexed_age         28052\n",
      "pet_age_months               0\n",
      "nb_contribution              0\n",
      "nb_excess                    0\n",
      "pet_age_years                0\n",
      "owner_age_years             73\n",
      "nb_breed_trait            2558\n",
      "is_multi_pet_plan            0\n",
      "multiple_claims              0\n",
      "num_unique_conditions        0\n",
      "dtype: int64\n"
     ]
    }
   ],
   "source": [
    "# Understand the missing values\n",
    "print(key_data.isna().sum())\n"
   ]
  },
  {
   "cell_type": "markdown",
   "metadata": {},
   "source": [
    "### A few notes on data quality:\n",
    "The pet_de_sexed_age variable seems to have repeated categories (e.g. assuming 0-3 mo is the same as 0-3 months). Additionally, it has many missing values which should surely be coded as \"Not Sure\". When pre-processing, this needs to be considered as an ordinal, categorical variable - struggling with how to reconcile this with the \"Not Sure\" category. \n",
    "\n",
    "Owner age years missing values seem to be low, happy to have that imputed with the mean during pre-processing. Need to check and make sure the \"months\" aren't counted as years. \n",
    "\n",
    "Missing breed trait variables also aren't too worrying, there is an \"unknown\" category that the NA values should be allocated to. \n"
   ]
  },
  {
   "cell_type": "markdown",
   "metadata": {},
   "source": [
    "#### Pet_De_Sexed_Age\n",
    "Data cleaning this specific variable as mentioned above."
   ]
  },
  {
   "cell_type": "code",
   "execution_count": 90,
   "metadata": {},
   "outputs": [
    {
     "name": "stderr",
     "output_type": "stream",
     "text": [
      "C:\\Users\\ameli\\AppData\\Local\\Temp\\ipykernel_30192\\2762557314.py:2: SettingWithCopyWarning: \n",
      "A value is trying to be set on a copy of a slice from a DataFrame.\n",
      "Try using .loc[row_indexer,col_indexer] = value instead\n",
      "\n",
      "See the caveats in the documentation: https://pandas.pydata.org/pandas-docs/stable/user_guide/indexing.html#returning-a-view-versus-a-copy\n",
      "  key_data[\"pet_de_sexed_age\"] = key_data[\"pet_de_sexed_age\"].replace(\"0-3 months\", \"0-3 mo\")\n",
      "C:\\Users\\ameli\\AppData\\Local\\Temp\\ipykernel_30192\\2762557314.py:3: SettingWithCopyWarning: \n",
      "A value is trying to be set on a copy of a slice from a DataFrame.\n",
      "Try using .loc[row_indexer,col_indexer] = value instead\n",
      "\n",
      "See the caveats in the documentation: https://pandas.pydata.org/pandas-docs/stable/user_guide/indexing.html#returning-a-view-versus-a-copy\n",
      "  key_data[\"pet_de_sexed_age\"] = key_data[\"pet_de_sexed_age\"].replace(\"2+ years\", \"2+ yr\")\n",
      "C:\\Users\\ameli\\AppData\\Local\\Temp\\ipykernel_30192\\2762557314.py:4: SettingWithCopyWarning: \n",
      "A value is trying to be set on a copy of a slice from a DataFrame.\n",
      "Try using .loc[row_indexer,col_indexer] = value instead\n",
      "\n",
      "See the caveats in the documentation: https://pandas.pydata.org/pandas-docs/stable/user_guide/indexing.html#returning-a-view-versus-a-copy\n",
      "  key_data[\"pet_de_sexed_age\"] = key_data[\"pet_de_sexed_age\"].replace(\"7-12 months\", \"7-12 mo\")\n"
     ]
    }
   ],
   "source": [
    "# Merge the categories that are doubling up\n",
    "key_data[\"pet_de_sexed_age\"] = key_data[\"pet_de_sexed_age\"].replace(\"0-3 months\", \"0-3 mo\")\n",
    "key_data[\"pet_de_sexed_age\"] = key_data[\"pet_de_sexed_age\"].replace(\"2+ years\", \"2+ yr\")\n",
    "key_data[\"pet_de_sexed_age\"] = key_data[\"pet_de_sexed_age\"].replace(\"7-12 months\", \"7-12 mo\")\n"
   ]
  },
  {
   "cell_type": "code",
   "execution_count": 91,
   "metadata": {},
   "outputs": [
    {
     "name": "stderr",
     "output_type": "stream",
     "text": [
      "C:\\Users\\ameli\\AppData\\Local\\Temp\\ipykernel_30192\\2442574469.py:2: SettingWithCopyWarning: \n",
      "A value is trying to be set on a copy of a slice from a DataFrame.\n",
      "Try using .loc[row_indexer,col_indexer] = value instead\n",
      "\n",
      "See the caveats in the documentation: https://pandas.pydata.org/pandas-docs/stable/user_guide/indexing.html#returning-a-view-versus-a-copy\n",
      "  key_data[\"pet_de_sexed_age\"] = key_data[\"pet_de_sexed_age\"].fillna(\"Not Sure\")\n"
     ]
    }
   ],
   "source": [
    "# Allocate the missing values to the \"Not Sure\" category\n",
    "key_data[\"pet_de_sexed_age\"] = key_data[\"pet_de_sexed_age\"].fillna(\"Not Sure\")"
   ]
  },
  {
   "cell_type": "code",
   "execution_count": 92,
   "metadata": {},
   "outputs": [
    {
     "name": "stdout",
     "output_type": "stream",
     "text": [
      "pet_de_sexed_age\n",
      "0-3 mo       1442\n",
      "1-2 yr       2145\n",
      "2+ yr         681\n",
      "4-6 mo       3765\n",
      "7-12 mo      3808\n",
      "Not Sure    28650\n",
      "Name: count, dtype: int64\n",
      "0\n"
     ]
    }
   ],
   "source": [
    "# Confirm the categories are aligned now and there are no missing values\n",
    "print(key_data[\"pet_de_sexed_age\"].value_counts().sort_index(ascending = True))\n",
    "print(key_data[\"pet_de_sexed_age\"].isna().sum())"
   ]
  },
  {
   "cell_type": "markdown",
   "metadata": {},
   "source": [
    "#### Breed Trait\n",
    "Need to allocate unknowns."
   ]
  },
  {
   "cell_type": "code",
   "execution_count": 93,
   "metadata": {},
   "outputs": [
    {
     "name": "stderr",
     "output_type": "stream",
     "text": [
      "C:\\Users\\ameli\\AppData\\Local\\Temp\\ipykernel_30192\\2141764739.py:2: SettingWithCopyWarning: \n",
      "A value is trying to be set on a copy of a slice from a DataFrame.\n",
      "Try using .loc[row_indexer,col_indexer] = value instead\n",
      "\n",
      "See the caveats in the documentation: https://pandas.pydata.org/pandas-docs/stable/user_guide/indexing.html#returning-a-view-versus-a-copy\n",
      "  key_data[\"nb_breed_trait\"] = key_data[\"nb_breed_trait\"].fillna(\"unknown\")\n"
     ]
    }
   ],
   "source": [
    "# Allocate the missing values to the \"unknown\" category\n",
    "key_data[\"nb_breed_trait\"] = key_data[\"nb_breed_trait\"].fillna(\"unknown\")"
   ]
  },
  {
   "cell_type": "code",
   "execution_count": 94,
   "metadata": {},
   "outputs": [
    {
     "name": "stdout",
     "output_type": "stream",
     "text": [
      "0\n"
     ]
    }
   ],
   "source": [
    "# Confirm allocation worked\n",
    "print(key_data[\"nb_breed_trait\"].isna().sum())"
   ]
  },
  {
   "cell_type": "markdown",
   "metadata": {},
   "source": [
    "## 3. Data Pre-Processing\n",
    "This is detailed in the notion page, at the bottom of the modelling master document."
   ]
  },
  {
   "cell_type": "markdown",
   "metadata": {},
   "source": [
    "#### Stratified Split\n",
    "Splitting dataset into training, testing and validation sets. "
   ]
  },
  {
   "cell_type": "code",
   "execution_count": 95,
   "metadata": {},
   "outputs": [
    {
     "data": {
      "text/plain": [
       "((24294, 11), (8098, 11), (8099, 11))"
      ]
     },
     "execution_count": 95,
     "metadata": {},
     "output_type": "execute_result"
    }
   ],
   "source": [
    "# Initialise pre-processing by splitting into target and variables\n",
    "target = key_data[\"num_unique_conditions\"]\n",
    "variables = key_data.drop(\"num_unique_conditions\", axis = 1)\n",
    "\n",
    "# Split into training, testing and validation datasets\n",
    "X_main, X_test, y_main, y_test = train_test_split(variables, target, test_size = 0.2, \n",
    "                                                  random_state = 199, stratify = target)\n",
    "X_train, X_val, y_train, y_val = train_test_split(X_main, y_main, test_size = 0.25, \n",
    "                                                  random_state = 199, stratify = y_main)\n",
    "\n",
    "X_train.shape, X_val.shape, X_test.shape"
   ]
  },
  {
   "cell_type": "markdown",
   "metadata": {},
   "source": [
    "#### Splitting Variable Types\n",
    "Need to now split the variables according to how they should be pre-processed, and check they're of the correct type.\n",
    "- binary variables: pet gender, pet de-sexed, multi-pet plan, multiple claims\n",
    "- ordinal categorical: pet de-sexed age, contribution, excess, pet_age_years\n",
    "- nominal categorical: breed_trait\n",
    "- numerical: pet age, owner age."
   ]
  },
  {
   "cell_type": "code",
   "execution_count": 96,
   "metadata": {},
   "outputs": [
    {
     "data": {
      "text/plain": [
       "pet_gender           object\n",
       "pet_de_sexed           bool\n",
       "is_multi_pet_plan      bool\n",
       "multiple_claims        bool\n",
       "dtype: object"
      ]
     },
     "execution_count": 96,
     "metadata": {},
     "output_type": "execute_result"
    }
   ],
   "source": [
    "# Grouping the binary variables\n",
    "binary_vars = key_data[[\"pet_gender\", \"pet_de_sexed\", \"is_multi_pet_plan\", \"multiple_claims\"]]\n",
    "\n",
    "# Checking the type of the binary variables\n",
    "binary_vars.dtypes"
   ]
  },
  {
   "cell_type": "code",
   "execution_count": 97,
   "metadata": {},
   "outputs": [
    {
     "name": "stderr",
     "output_type": "stream",
     "text": [
      "C:\\Users\\ameli\\AppData\\Local\\Temp\\ipykernel_30192\\1614131768.py:8: SettingWithCopyWarning: \n",
      "A value is trying to be set on a copy of a slice from a DataFrame.\n",
      "Try using .loc[row_indexer,col_indexer] = value instead\n",
      "\n",
      "See the caveats in the documentation: https://pandas.pydata.org/pandas-docs/stable/user_guide/indexing.html#returning-a-view-versus-a-copy\n",
      "  ordinal_vars[\"nb_contribution\"] = ordinal_vars[\"nb_contribution\"].astype(\"category\")\n",
      "C:\\Users\\ameli\\AppData\\Local\\Temp\\ipykernel_30192\\1614131768.py:9: SettingWithCopyWarning: \n",
      "A value is trying to be set on a copy of a slice from a DataFrame.\n",
      "Try using .loc[row_indexer,col_indexer] = value instead\n",
      "\n",
      "See the caveats in the documentation: https://pandas.pydata.org/pandas-docs/stable/user_guide/indexing.html#returning-a-view-versus-a-copy\n",
      "  ordinal_vars[\"nb_excess\"] = ordinal_vars[\"nb_excess\"].astype(\"category\")\n"
     ]
    },
    {
     "data": {
      "text/plain": [
       "pet_de_sexed_age      object\n",
       "nb_contribution     category\n",
       "nb_excess           category\n",
       "pet_age_years         object\n",
       "dtype: object"
      ]
     },
     "execution_count": 97,
     "metadata": {},
     "output_type": "execute_result"
    }
   ],
   "source": [
    "# Grouping the categorical ordinal variables\n",
    "ordinal_vars = key_data[[\"pet_de_sexed_age\", \"nb_contribution\", \"nb_excess\", \"pet_age_years\"]]\n",
    "\n",
    "# Checking the type of the ordinal variables\n",
    "ordinal_vars.dtypes\n",
    "\n",
    "# Convert the ordinal variables to category type\n",
    "ordinal_vars[\"nb_contribution\"] = ordinal_vars[\"nb_contribution\"].astype(\"category\")   \n",
    "ordinal_vars[\"nb_excess\"] = ordinal_vars[\"nb_excess\"].astype(\"category\")\n",
    "\n",
    "# Checking the type of the ordinal variables\n",
    "ordinal_vars.dtypes"
   ]
  },
  {
   "cell_type": "code",
   "execution_count": 98,
   "metadata": {},
   "outputs": [
    {
     "data": {
      "text/plain": [
       "nb_breed_trait    object\n",
       "dtype: object"
      ]
     },
     "execution_count": 98,
     "metadata": {},
     "output_type": "execute_result"
    }
   ],
   "source": [
    "# Grouping the categorical nominal variables\n",
    "nominal_vars = key_data[[\"nb_breed_trait\"]]\n",
    "\n",
    "# Checking the type of the nominal variables\n",
    "nominal_vars.dtypes"
   ]
  },
  {
   "cell_type": "code",
   "execution_count": 99,
   "metadata": {},
   "outputs": [
    {
     "data": {
      "text/plain": [
       "pet_age_months       int64\n",
       "owner_age_years    float64\n",
       "dtype: object"
      ]
     },
     "execution_count": 99,
     "metadata": {},
     "output_type": "execute_result"
    }
   ],
   "source": [
    "# Grouping the continuous variables\n",
    "num_vars = key_data[[\"pet_age_months\", \"owner_age_years\"]]\n",
    "\n",
    "# Checking the type of the continuous variables\n",
    "num_vars.dtypes"
   ]
  },
  {
   "cell_type": "markdown",
   "metadata": {},
   "source": [
    "#### Ordinal Encoding\n",
    "Defining the order that the ordinal encoding needs to occur in, for several variables."
   ]
  },
  {
   "cell_type": "code",
   "execution_count": 100,
   "metadata": {},
   "outputs": [],
   "source": [
    "# Define the order for pet_de_sexed_age\n",
    "pet_de_sexed_age_order = [\"0-3 mo\", \"4-6 mo\", \"7-12 mo\", \"1-2 yr\", \"2+ yr\", \"Not Sure\"]\n",
    "\n",
    "# Define the order for pet_age_years\n",
    "pet_age_years_order = [\"0-6 months\", \"7-12 months\", \"1 years\", \"2 years\", \"3 years\", \"4 years\",\n",
    "                       \"5 years\", \"6 years\", \"7 years\", \"8 years\", \"9 years\", \"10 years\"]"
   ]
  },
  {
   "cell_type": "markdown",
   "metadata": {},
   "source": [
    "Specify the ordinal categorical variables that can be encoded to default, and those that can't."
   ]
  },
  {
   "cell_type": "code",
   "execution_count": 101,
   "metadata": {},
   "outputs": [],
   "source": [
    "# Split into those that need special treatment and those that don't\n",
    "ordinal_sp_vars = ordinal_vars[[\"pet_de_sexed_age\", \"pet_age_years\"]]\n",
    "ordinal_vars = ordinal_vars.drop([\"pet_de_sexed_age\", \"pet_age_years\"], axis = 1)"
   ]
  },
  {
   "cell_type": "markdown",
   "metadata": {},
   "source": [
    "#### Transforming Variables\n"
   ]
  },
  {
   "cell_type": "code",
   "execution_count": 102,
   "metadata": {},
   "outputs": [],
   "source": [
    "# Define how to pre-process the data\n",
    "ct = make_column_transformer(\n",
    "    (OneHotEncoder(sparse_output = False, handle_unknown = 'ignore'), [\"nb_breed_trait\"]),\n",
    "    (OrdinalEncoder(categories = [pet_de_sexed_age_order, pet_age_years_order]), \n",
    "     [\"pet_de_sexed_age\", \"pet_age_years\"]),\n",
    "    (OrdinalEncoder(), [\"pet_gender\", \"pet_de_sexed\", \"nb_contribution\", \"nb_excess\", \n",
    "     \"is_multi_pet_plan\", \"multiple_claims\"]),\n",
    "    (make_pipeline(SimpleImputer(strategy = 'mean'), StandardScaler()), \n",
    "     [\"pet_age_months\", \"owner_age_years\"]),\n",
    "    remainder = 'drop',\n",
    "    verbose_feature_names_out = False\n",
    ")"
   ]
  },
  {
   "cell_type": "code",
   "execution_count": 103,
   "metadata": {},
   "outputs": [],
   "source": [
    "# Pre-process variables\n",
    "X_train_ct = ct.fit_transform(X_train)\n",
    "X_val_ct = ct.transform(X_val)\n",
    "X_test_ct = ct.transform(X_test)"
   ]
  },
  {
   "cell_type": "code",
   "execution_count": 104,
   "metadata": {},
   "outputs": [
    {
     "name": "stdout",
     "output_type": "stream",
     "text": [
      "The train set has shape (24294, 30)\n",
      "The val set has shape (8098, 30)\n",
      "The test set has shape (8099, 30)\n"
     ]
    }
   ],
   "source": [
    "# Check the shapes of processed data\n",
    "for name, X in zip(('train', 'val', 'test'), (X_train_ct, X_val_ct, X_test_ct)):\n",
    "        print(f'The {name} set has shape {X.shape}')"
   ]
  },
  {
   "cell_type": "markdown",
   "metadata": {},
   "source": [
    "#### Transforming Target\n"
   ]
  },
  {
   "cell_type": "code",
   "execution_count": 105,
   "metadata": {},
   "outputs": [
    {
     "data": {
      "text/plain": [
       "array([0, 1, 2, 3], dtype=int64)"
      ]
     },
     "execution_count": 105,
     "metadata": {},
     "output_type": "execute_result"
    }
   ],
   "source": [
    "# Check the order of the target variable\n",
    "target.unique()"
   ]
  },
  {
   "cell_type": "code",
   "execution_count": 106,
   "metadata": {},
   "outputs": [],
   "source": [
    "# Ordinal encode the target variable\n",
    "oe = OrdinalEncoder()\n",
    "\n",
    "# Fit the encoder on the training data\n",
    "y_train = oe.fit_transform(y_train.values.reshape(-1, 1))\n",
    "y_val = oe.transform(y_val.values.reshape(-1, 1))\n",
    "y_test = oe.transform(y_test.values.reshape(-1, 1))\n"
   ]
  },
  {
   "cell_type": "code",
   "execution_count": 109,
   "metadata": {},
   "outputs": [
    {
     "data": {
      "text/plain": [
       "((24294, 1), (8098, 1), (8099, 1))"
      ]
     },
     "execution_count": 109,
     "metadata": {},
     "output_type": "execute_result"
    }
   ],
   "source": [
    "# Checking the target variable shapes\n",
    "y_train.shape, y_val.shape, y_test.shape\n"
   ]
  },
  {
   "cell_type": "markdown",
   "metadata": {},
   "source": [
    "#### Confirming Ordinal Encoding\n",
    "Need to confirm that the ordinal encoding has worked as expected (i.e. the categories that had a specific order have that retained)."
   ]
  },
  {
   "cell_type": "code",
   "execution_count": 113,
   "metadata": {},
   "outputs": [
    {
     "name": "stdout",
     "output_type": "stream",
     "text": [
      "The # conditions 0 gets turned into 0.\n",
      "The # conditions 1 gets turned into 1.\n",
      "The # conditions 2 gets turned into 2.\n",
      "The # conditions 3 gets turned into 3.\n"
     ]
    }
   ],
   "source": [
    "# Check that the target variable is in the correct order\n",
    "for i, value in enumerate(oe.categories_[0]):\n",
    "    print(f\"The # conditions {value} gets turned into {i}.\")"
   ]
  },
  {
   "cell_type": "code",
   "execution_count": 117,
   "metadata": {},
   "outputs": [
    {
     "name": "stdout",
     "output_type": "stream",
     "text": [
      "The 'pet_de_sexed_age' value '0-3 mo' gets turned into 0.\n",
      "The 'pet_de_sexed_age' value '4-6 mo' gets turned into 1.\n",
      "The 'pet_de_sexed_age' value '7-12 mo' gets turned into 2.\n",
      "The 'pet_de_sexed_age' value '1-2 yr' gets turned into 3.\n",
      "The 'pet_de_sexed_age' value '2+ yr' gets turned into 4.\n",
      "The 'pet_de_sexed_age' value 'Not Sure' gets turned into 5.\n",
      "The 'pet_age_years' value '0-6 months' gets turned into 0.\n",
      "The 'pet_age_years' value '7-12 months' gets turned into 1.\n",
      "The 'pet_age_years' value '1 years' gets turned into 2.\n",
      "The 'pet_age_years' value '2 years' gets turned into 3.\n",
      "The 'pet_age_years' value '3 years' gets turned into 4.\n",
      "The 'pet_age_years' value '4 years' gets turned into 5.\n",
      "The 'pet_age_years' value '5 years' gets turned into 6.\n",
      "The 'pet_age_years' value '6 years' gets turned into 7.\n",
      "The 'pet_age_years' value '7 years' gets turned into 8.\n",
      "The 'pet_age_years' value '8 years' gets turned into 9.\n",
      "The 'pet_age_years' value '9 years' gets turned into 10.\n",
      "The 'pet_age_years' value '10 years' gets turned into 11.\n",
      "The 'pet_de_sexed_age' value 'female' gets turned into 0.\n",
      "The 'pet_de_sexed_age' value 'male' gets turned into 1.\n",
      "The 'pet_age_years' value 'False' gets turned into 0.\n",
      "The 'pet_age_years' value 'True' gets turned into 1.\n"
     ]
    }
   ],
   "source": [
    "# Access the fitted OrdinalEncoders\n",
    "# Access the fitted OrdinalEncoders using transformers_\n",
    "ordinal_encoders = []\n",
    "for transformer in ct.transformers_:\n",
    "    if isinstance(transformer[1], OrdinalEncoder):\n",
    "        ordinal_encoders.append(transformer[1])  # Append the OrdinalEncoder to the list\n",
    "\n",
    "# Iterate through each OrdinalEncoder to print the categories\n",
    "for encoder in ordinal_encoders:\n",
    "    if len(encoder.categories_) > 0:  \n",
    "        for i, category in enumerate(encoder.categories_[0]):\n",
    "            print(f\"The 'pet_de_sexed_age' value '{category}' gets turned into {i}.\")\n",
    "        for i, category in enumerate(encoder.categories_[1]):\n",
    "            print(f\"The 'pet_age_years' value '{category}' gets turned into {i}.\")"
   ]
  },
  {
   "cell_type": "markdown",
   "metadata": {},
   "source": [
    "## 4. Run Basic Neural Network\n",
    "Will run a simple neural network which performs multi-class classification."
   ]
  },
  {
   "cell_type": "markdown",
   "metadata": {},
   "source": [
    "#### Initialising\n",
    "Setting up a random seed for reproducibility and defining the classes in target variable."
   ]
  },
  {
   "cell_type": "code",
   "execution_count": 119,
   "metadata": {},
   "outputs": [],
   "source": [
    "# Setting random seed\n",
    "seed = 199\n",
    "\n",
    "random.seed(seed)\n",
    "np.random.seed(seed)\n",
    "tf.random.set_seed(seed)"
   ]
  },
  {
   "cell_type": "code",
   "execution_count": 126,
   "metadata": {},
   "outputs": [
    {
     "data": {
      "text/plain": [
       "4"
      ]
     },
     "execution_count": 126,
     "metadata": {},
     "output_type": "execute_result"
    }
   ],
   "source": [
    "# Define the number of classes\n",
    "num_classes = len(oe.categories_[0])\n",
    "num_classes"
   ]
  },
  {
   "cell_type": "markdown",
   "metadata": {},
   "source": [
    "#### Sequential Neural Network"
   ]
  },
  {
   "cell_type": "code",
   "execution_count": 121,
   "metadata": {},
   "outputs": [],
   "source": [
    "# Define the model structure\n",
    "def create_model(seed = 199):\n",
    "    random.seed(seed)\n",
    "    model = Sequential()\n",
    "    model.add(Input(X_train_ct.shape[1:]))\n",
    "    model.add(Dense(40, \"leaky_relu\"))\n",
    "    model.add(Dense(20, \"leaky_relu\"))\n",
    "    model.add(Dense(num_classes, \"softmax\"))\n",
    "    return model"
   ]
  },
  {
   "cell_type": "code",
   "execution_count": 128,
   "metadata": {},
   "outputs": [
    {
     "name": "stdout",
     "output_type": "stream",
     "text": [
      "Epoch 87: early stopping\n",
      "Restoring model weights from the end of the best epoch: 37.\n",
      "Stopped after 87 epochs.\n"
     ]
    }
   ],
   "source": [
    "# Fit the model with early-stopping\n",
    "model = create_model()\n",
    "\n",
    "model.compile(optimizer = \"adam\", loss = \"sparse_categorical_crossentropy\",\n",
    "    metrics = [\"accuracy\"])                                \n",
    "\n",
    "es = EarlyStopping(patience = 50, restore_best_weights = True,\n",
    "    monitor = \"val_accuracy\", verbose = 1)\n",
    "\n",
    "hist_es = model.fit(X_train_ct, y_train, epochs = 1_000, validation_data = (X_val_ct, y_val), callbacks = [es], verbose = False);\n",
    "history = hist_es.history\n",
    "\n",
    "print(f\"Stopped after {len(hist_es.history['loss'])} epochs.\")"
   ]
  },
  {
   "cell_type": "code",
   "execution_count": 129,
   "metadata": {},
   "outputs": [
    {
     "data": {
      "text/plain": [
       "[0.17447815835475922, 0.9539392590522766]"
      ]
     },
     "execution_count": 129,
     "metadata": {},
     "output_type": "execute_result"
    }
   ],
   "source": [
    "# Evaluate the model\n",
    "model.evaluate(X_train_ct, y_train, verbose = False)"
   ]
  },
  {
   "cell_type": "code",
   "execution_count": 130,
   "metadata": {},
   "outputs": [
    {
     "data": {
      "text/plain": [
       "[0.1921926885843277, 0.952333927154541]"
      ]
     },
     "execution_count": 130,
     "metadata": {},
     "output_type": "execute_result"
    }
   ],
   "source": [
    "# Evaluate the model on the validation set\n",
    "model.evaluate(X_val_ct, y_val, verbose=False)"
   ]
  },
  {
   "cell_type": "code",
   "execution_count": 131,
   "metadata": {},
   "outputs": [
    {
     "name": "stdout",
     "output_type": "stream",
     "text": [
      "\u001b[1m254/254\u001b[0m \u001b[32m━━━━━━━━━━━━━━━━━━━━\u001b[0m\u001b[37m\u001b[0m \u001b[1m0s\u001b[0m 809us/step\n"
     ]
    },
    {
     "data": {
      "text/plain": [
       "0.9365028645293936"
      ]
     },
     "execution_count": 131,
     "metadata": {},
     "output_type": "execute_result"
    }
   ],
   "source": [
    "# Find the f1 score for the validation set\n",
    "y_pred = model.predict(X_val_ct)\n",
    "y_pred = np.argmax(y_pred, axis = 1)\n",
    "f1_score(y_val, y_pred, average = 'weighted')\n"
   ]
  },
  {
   "cell_type": "code",
   "execution_count": 133,
   "metadata": {},
   "outputs": [
    {
     "data": {
      "image/png": "[encoded data removed]",
      "text/plain": [
       "<Figure size 640x480 with 2 Axes>"
      ]
     },
     "metadata": {},
     "output_type": "display_data"
    }
   ],
   "source": [
    "def plot_history(history):\n",
    "    epochs = range(len(history[\"loss\"]))\n",
    "\n",
    "    plt.subplot(1, 2, 1)\n",
    "    plt.plot(epochs,  history[\"accuracy\"], color = \"darkblue\",  label=\"Train\")\n",
    "    plt.plot(epochs,  history[\"val_accuracy\"], color = \"purple\", label=\"Val\")\n",
    "    plt.legend(loc=\"lower left\")\n",
    "    plt.xlabel(\"Epochs\")\n",
    "    plt.title(\"Accuracy\")\n",
    "\n",
    "    plt.subplot(1, 2, 2)\n",
    "    plt.plot(epochs,  history[\"loss\"], color = \"darkblue\", label=\"Train\")\n",
    "    plt.plot(epochs,  history[\"val_loss\"], color = \"purple\", label=\"Val\")\n",
    "    plt.legend(loc=\"upper left\")\n",
    "    plt.title(\"Loss\")\n",
    "    plt.xlabel(\"Epochs\")\n",
    "    plt.tight_layout()\n",
    "\n",
    "    plt.show()\n",
    "\n",
    "plot_history(history)"
   ]
  }
 ],
 "metadata": {
  "kernelspec": {
   "display_name": "base",
   "language": "python",
   "name": "python3"
  },
  "language_info": {
   "codemirror_mode": {
    "name": "ipython",
    "version": 3
   },
   "file_extension": ".py",
   "mimetype": "text/x-python",
   "name": "python",
   "nbconvert_exporter": "python",
   "pygments_lexer": "ipython3",
   "version": "3.11.7"
  }
 },
 "nbformat": 4,
 "nbformat_minor": 2
}
